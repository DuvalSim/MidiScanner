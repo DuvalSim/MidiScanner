{
 "cells": [
  {
   "cell_type": "code",
   "execution_count": 1,
   "metadata": {},
   "outputs": [],
   "source": [
    "import numpy as np\n",
    "import cv2\n",
    "\n",
    "\n",
    "from midi_scanner.utils.ImageProcessor import ImageProcessor\n",
    "cap = cv2.VideoCapture(\"media\\Les Aristochats - Gammes et arpèges (piano facile).mp4\")\n",
    "n_clusters = 5\n",
    "\n",
    "max_frame = 500\n",
    "\n",
    "nb_frame = 300\n",
    "cap.set(cv2.CAP_PROP_POS_FRAMES,150)\n",
    "image_processor = ImageProcessor((0, 246, 635, 350))\n",
    "\n",
    "data = None\n",
    "\n",
    "status, image = cap.read()\n",
    "image_base_roi = image_processor.get_keyboard_image(image)\n",
    "\n",
    "\n",
    "cap.set(cv2.CAP_PROP_POS_FRAMES,400)\n",
    "status, image = cap.read()\n",
    "image_color_roi = image_processor.get_keyboard_image(image)\n",
    "\n",
    "# cv2.imshow(\"dominant_colors\", image_roi)\n",
    "# cv2.waitKey(0)\n",
    "# cv2.destroyAllWindows()\n"
   ]
  },
  {
   "cell_type": "code",
   "execution_count": 2,
   "metadata": {},
   "outputs": [
    {
     "data": {
      "text/plain": [
       "95"
      ]
     },
     "execution_count": 2,
     "metadata": {},
     "output_type": "execute_result"
    }
   ],
   "source": [
    "basic_values = np.unique(image_base_roi, axis =0)\n",
    "len(basic_values)"
   ]
  },
  {
   "cell_type": "code",
   "execution_count": 3,
   "metadata": {},
   "outputs": [
    {
     "data": {
      "text/plain": [
       "95"
      ]
     },
     "execution_count": 3,
     "metadata": {},
     "output_type": "execute_result"
    }
   ],
   "source": [
    "color_values = np.unique(image_color_roi, axis=0)\n",
    "len(basic_values)"
   ]
  },
  {
   "cell_type": "code",
   "execution_count": 15,
   "metadata": {},
   "outputs": [],
   "source": [
    "diff = image_color_roi - image_base_roi\n",
    "diff\n",
    "img_grey = cv2.cvtColor(diff, cv2.COLOR_RGB2GRAY)\n",
    "thresh, img_binary = cv2.threshold(img_grey, 127, 255, cv2.THRESH_BINARY)\n",
    "\n",
    "img_negative = cv2.bitwise_not(img_binary)"
   ]
  },
  {
   "cell_type": "code",
   "execution_count": 16,
   "metadata": {},
   "outputs": [],
   "source": [
    "cv2.imshow(\"test\", img_negative)\n",
    "cv2.waitKey(0)\n",
    "cv2.destroyAllWindows()"
   ]
  },
  {
   "cell_type": "code",
   "execution_count": 6,
   "metadata": {},
   "outputs": [
    {
     "data": {
      "text/plain": [
       "array([[[216, 241, 242],\n",
       "        [228, 253, 254],\n",
       "        [228, 253, 254],\n",
       "        ...,\n",
       "        [228, 254, 252],\n",
       "        [228, 254, 252],\n",
       "        [224, 255, 252]],\n",
       "\n",
       "       [[216, 241, 242],\n",
       "        [228, 253, 254],\n",
       "        [228, 253, 254],\n",
       "        ...,\n",
       "        [228, 254, 252],\n",
       "        [228, 254, 252],\n",
       "        [224, 255, 252]],\n",
       "\n",
       "       [[216, 241, 242],\n",
       "        [228, 253, 254],\n",
       "        [228, 253, 254],\n",
       "        ...,\n",
       "        [228, 254, 252],\n",
       "        [228, 254, 252],\n",
       "        [224, 255, 252]],\n",
       "\n",
       "       ...,\n",
       "\n",
       "       [[218, 243, 244],\n",
       "        [221, 246, 247],\n",
       "        [193, 218, 219],\n",
       "        ...,\n",
       "        [226, 254, 252],\n",
       "        [226, 254, 252],\n",
       "        [224, 255, 252]],\n",
       "\n",
       "       [[216, 241, 242],\n",
       "        [218, 243, 244],\n",
       "        [184, 209, 210],\n",
       "        ...,\n",
       "        [226, 254, 252],\n",
       "        [226, 254, 252],\n",
       "        [224, 255, 252]],\n",
       "\n",
       "       [[218, 243, 244],\n",
       "        [218, 243, 244],\n",
       "        [183, 208, 209],\n",
       "        ...,\n",
       "        [226, 254, 252],\n",
       "        [226, 254, 252],\n",
       "        [224, 255, 252]]], dtype=uint8)"
      ]
     },
     "execution_count": 6,
     "metadata": {},
     "output_type": "execute_result"
    }
   ],
   "source": [
    "image_base_roi"
   ]
  }
 ],
 "metadata": {
  "kernelspec": {
   "display_name": ".venv",
   "language": "python",
   "name": "python3"
  },
  "language_info": {
   "codemirror_mode": {
    "name": "ipython",
    "version": 3
   },
   "file_extension": ".py",
   "mimetype": "text/x-python",
   "name": "python",
   "nbconvert_exporter": "python",
   "pygments_lexer": "ipython3",
   "version": "3.8.8"
  }
 },
 "nbformat": 4,
 "nbformat_minor": 2
}

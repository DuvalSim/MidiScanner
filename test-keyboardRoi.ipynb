{
 "cells": [
  {
   "cell_type": "code",
   "execution_count": 1,
   "metadata": {},
   "outputs": [],
   "source": [
    "import numpy as np\n",
    "import cv2\n",
    "\n",
    "\n",
    "from midi_scanner.utils.ImageProcessor import ImageProcessor\n",
    "\n",
    "# FF\n",
    "filename = \"media\\FFX.mp4\"\n",
    "clean_frame = 0\n",
    "keyboard_roi = (0, 282, 640, 355)\n",
    "\n",
    "# Aristochats\n",
    "# filename = \"media\\Les Aristochats - Gammes et arpèges (piano facile).mp4\"\n",
    "# clean_frame = 150\n",
    "# keyboard_roi = (0, 246, 635, 350)\n",
    "\n",
    "# Au Clair de la lune\n",
    "# filename = \"media\\Au Clair De La Lune - Super Easy Piano Tutorial.mp4\"\n",
    "# clean_frame = 0\n",
    "# keyboard_roi = (0, 241, 647, 358)\n",
    "\n",
    "cap = cv2.VideoCapture(filename)\n",
    "n_clusters = 5\n",
    "\n",
    "max_frame = 500\n",
    "\n",
    "nb_frame = 300\n",
    "cap.set(cv2.CAP_PROP_POS_FRAMES,clean_frame)\n",
    "image_processor = ImageProcessor(keyboard_roi)\n",
    "\n",
    "data = None\n",
    "\n",
    "status, image = cap.read()\n",
    "image_base_roi = image_processor.get_keyboard_image(image)\n"
   ]
  },
  {
   "cell_type": "code",
   "execution_count": 2,
   "metadata": {},
   "outputs": [],
   "source": [
    "def display_image(title, img):\n",
    "    cv2.imshow(title,img)\n",
    "    cv2.waitKey(0)\n",
    "    cv2.destroyAllWindows()"
   ]
  },
  {
   "cell_type": "code",
   "execution_count": 3,
   "metadata": {},
   "outputs": [],
   "source": [
    "import math\n",
    "def display_lines_custom(win_name, img, lines):\n",
    "\tnew_img = img.copy()\n",
    "\tfor line in lines:\n",
    "\t\trho = int(line[0][0])\n",
    "\t\ttheta = float(line[0][1])\n",
    "\t\t# if theta == 0:\n",
    "\t\t# \tnew_img = cv2.line(new_img, (rho, 0), (rho, img.shape[0]), 255, 3)\n",
    "\t\t# elif theta == np.pi/2:\n",
    "\t\t# \tnew_img = cv2.line(new_img, (rho, 0), (rho, img.shape[0]), (0, 255, 0), 3)\n",
    "\t\t# else:\n",
    "\t\ta = np.cos(theta)\n",
    "\t\tb = np.sin(theta)\n",
    "\t\n",
    "\t\t# x0 stores the value rcos(theta)\n",
    "\t\tx0 = a*rho\n",
    "\t\n",
    "\t\t# y0 stores the value rsin(theta)\n",
    "\t\ty0 = b*rho\n",
    "\t\n",
    "\t\t# x1 stores the rounded off value of (rcos(theta)-1000sin(theta))\n",
    "\t\tx1 = int(x0 + 1000*(-b))\n",
    "\t\n",
    "\t\t# y1 stores the rounded off value of (rsin(theta)+1000cos(theta))\n",
    "\t\ty1 = int(y0 + 1000*(a))\n",
    "\t\n",
    "\t\t# x2 stores the rounded off value of (rcos(theta)+1000sin(theta))\n",
    "\t\tx2 = int(x0 - 1000*(-b))\n",
    "\t\n",
    "\t\t# y2 stores the rounded off value of (rsin(theta)-1000cos(theta))\n",
    "\t\ty2 = int(y0 - 1000*(a))\n",
    "\t\n",
    "\t\t# cv2.line draws a line in img from the point(x1,y1) to (x2,y2).\n",
    "\t\t# (0,0,255) denotes the colour of the line to be\n",
    "\t\t# drawn. In this case, it is red.\n",
    "\t\tif theta == 0:\n",
    "\t\t\tcolor = (0,0,255)\n",
    "\t\t\t#new_img = cv2.line(new_img, (x1, y1), (x2, y2), color, 2)\n",
    "\t\t\tcontinue\n",
    "\t\telse:\n",
    "\t\t\tif round(theta,3) == round(np.pi/2, 3):\n",
    "\t\t\t\tcolor = (0,255,0)\n",
    "\t\t\t\tnew_img = cv2.line(new_img, (x1, y1), (x2, y2), color, 2)\n",
    "\t\t\t#elif  abs(x1 -x2) < 20:\n",
    "\t\t\t#\tcpl\n",
    "\t\t\t#\tnew_img = cv2.line(new_img, (x1, y1), (x2, y2), color, 2)\n",
    "\t\t\telse:\n",
    "\t\t\t\tcolor = (255,0,0)\n",
    "\t\t\t\t\t\n",
    "\n",
    "\tdisplay_image(win_name, new_img)"
   ]
  },
  {
   "cell_type": "code",
   "execution_count": 12,
   "metadata": {},
   "outputs": [
    {
     "name": "stdout",
     "output_type": "stream",
     "text": [
      "True\n"
     ]
    },
    {
     "ename": "TypeError",
     "evalue": "'NoneType' object is not iterable",
     "output_type": "error",
     "traceback": [
      "\u001b[1;31m---------------------------------------------------------------------------\u001b[0m",
      "\u001b[1;31mTypeError\u001b[0m                                 Traceback (most recent call last)",
      "Cell \u001b[1;32mIn[12], line 11\u001b[0m\n\u001b[0;32m      9\u001b[0m \u001b[38;5;28mprint\u001b[39m(lines_canny \u001b[38;5;129;01mis\u001b[39;00m \u001b[38;5;28;01mNone\u001b[39;00m)\n\u001b[0;32m     10\u001b[0m \u001b[38;5;66;03m# get horizontal lines\u001b[39;00m\n\u001b[1;32m---> 11\u001b[0m lines_height \u001b[38;5;241m=\u001b[39m [line[\u001b[38;5;241m0\u001b[39m][\u001b[38;5;241m0\u001b[39m] \u001b[38;5;28;01mfor\u001b[39;00m line \u001b[38;5;129;01min\u001b[39;00m lines_canny \u001b[38;5;28;01mif\u001b[39;00m \u001b[38;5;28mround\u001b[39m(\u001b[38;5;28mfloat\u001b[39m(line[\u001b[38;5;241m0\u001b[39m][\u001b[38;5;241m1\u001b[39m]), \u001b[38;5;241m3\u001b[39m) \u001b[38;5;241m==\u001b[39m \u001b[38;5;28mround\u001b[39m(np\u001b[38;5;241m.\u001b[39mpi\u001b[38;5;241m/\u001b[39m\u001b[38;5;241m2\u001b[39m,\u001b[38;5;241m3\u001b[39m)]\n\u001b[0;32m     12\u001b[0m lines_height\u001b[38;5;241m.\u001b[39msort()\n\u001b[0;32m     13\u001b[0m \u001b[38;5;28mprint\u001b[39m(lines_height)\n",
      "\u001b[1;31mTypeError\u001b[0m: 'NoneType' object is not iterable"
     ]
    }
   ],
   "source": [
    "gray = cv2.cvtColor(image_base_roi, cv2.COLOR_BGR2GRAY)\n",
    "\n",
    "canny_binary = cv2.threshold(gray, 128, 255, cv2.THRESH_BINARY | cv2.THRESH_OTSU)[1]\n",
    "canny_binary = cv2.Canny(canny_binary, threshold1=120, threshold2=200)\n",
    "\n",
    "display_image(\"canary\", canny_binary)\n",
    "# Get lines with theta = 0 (vertical lines)\n",
    "lines_canny = cv2.HoughLines(canny_binary, rho=1, theta=np.pi/24 , threshold=(image_base_roi.shape[1]//5), min_theta=0, max_theta= np.pi )\n",
    "# get horizontal lines\n",
    "lines_height = [line[0][0] for line in lines_canny if round(float(line[0][1]), 3) == round(np.pi/2,3)]\n",
    "lines_height.sort()\n",
    "print(lines_height)\n",
    "display_lines_custom(\"lines\", image_base_roi, lines_canny )\n",
    "\n"
   ]
  },
  {
   "cell_type": "code",
   "execution_count": 67,
   "metadata": {},
   "outputs": [
    {
     "name": "stdout",
     "output_type": "stream",
     "text": [
      "prop 1 0.0\n",
      "prop 2 36.5\n",
      "prop 3 48.66666666666667\n",
      "prop 4 54.75\n",
      "prop 5 58.4\n",
      "prop 6 60.833333333333336\n",
      "prop 7 62.57142857142857\n"
     ]
    }
   ],
   "source": [
    "for i in range(1,8):\n",
    "    print(f\"prop {i}\",image_base_roi.shape[0] - image_base_roi.shape[0]/ i)"
   ]
  },
  {
   "cell_type": "code",
   "execution_count": 68,
   "metadata": {},
   "outputs": [
    {
     "data": {
      "text/plain": [
       "50.0"
      ]
     },
     "execution_count": 68,
     "metadata": {},
     "output_type": "execute_result"
    }
   ],
   "source": [
    "height = [height for height in lines_height if ((height > (image_base_roi.shape[0] - image_base_roi.shape[0]/ 2)))][0]\n",
    "height"
   ]
  },
  {
   "cell_type": "code",
   "execution_count": null,
   "metadata": {},
   "outputs": [],
   "source": [
    "a = math.cos(theta)\n",
    " b = math.sin(theta)\n",
    " x0 = a * rho\n",
    " y0 = b * rho\n",
    " pt1 = (int(x0 + 1000*(-b)), int(y0 + 1000*(a)))\n",
    " pt2 = (int(x0 - 1000*(-b)), int(y0 - 1000*(a)))"
   ]
  },
  {
   "cell_type": "code",
   "execution_count": 4,
   "metadata": {},
   "outputs": [
    {
     "data": {
      "text/plain": [
       "(104, 635, 3)"
      ]
     },
     "execution_count": 4,
     "metadata": {},
     "output_type": "execute_result"
    }
   ],
   "source": [
    "image_base_roi.shape"
   ]
  },
  {
   "cell_type": "code",
   "execution_count": null,
   "metadata": {},
   "outputs": [],
   "source": [
    "im_height = clean_frame.shape[0]\n",
    "im_bottom = clean_frame[int(im_height - (im_height / 3)):im_height, :]\n",
    "\n",
    "gray = cv2.cvtColor(im_bottom, cv2.COLOR_BGR2GRAY)\n",
    "\n",
    "canny_binary = cv2.threshold(gray, 128, 255, cv2.THRESH_BINARY | cv2.THRESH_OTSU)[1]\n",
    "canny_binary = cv2.Canny(canny_binary, threshold1=120, threshold2=200)\n",
    "cv2.imshow(\"canny\", canny_binary)\n",
    "# Get lines with theta = 0 (vertical lines)\n",
    "lines_canny = cv2.HoughLines(canny_binary, rho=1, theta=np.pi / 180, threshold=20, min_theta=0, max_theta=np.pi / 180)\n",
    "\n",
    "display_lines(\"White key detection: clines from houghlines\", clean_frame, lines_canny)\n",
    "\n",
    "white_notes = _get_keys_from_lines(lines_canny, start_key, im_bottom.shape[1])\n",
    "\n",
    "white_notes_img = put_white_notes_on_image(base_image=clean_frame.copy(), notes=white_notes)\n",
    "\n",
    "cv2.imshow(\"notes\", white_notes_img)\n",
    "cv2.waitKey(0)\n",
    "return white_notes"
   ]
  },
  {
   "cell_type": "code",
   "execution_count": 3,
   "metadata": {},
   "outputs": [],
   "source": [
    "cv2.imshow(\"base_image\", image_base_roi)\n",
    "cv2.waitKey(0)\n",
    "cv2.destroyAllWindows()"
   ]
  },
  {
   "cell_type": "code",
   "execution_count": 14,
   "metadata": {},
   "outputs": [
    {
     "data": {
      "text/plain": [
       "(73, 640, 3)"
      ]
     },
     "execution_count": 14,
     "metadata": {},
     "output_type": "execute_result"
    }
   ],
   "source": [
    "image_base_roi.shape"
   ]
  },
  {
   "cell_type": "code",
   "execution_count": 10,
   "metadata": {},
   "outputs": [
    {
     "name": "stdout",
     "output_type": "stream",
     "text": [
      "pyimage6\n"
     ]
    }
   ],
   "source": [
    "import tkinter as tk\n",
    "\n",
    "from tkinter import messagebox\n",
    "from PIL import Image, ImageTk\n",
    "from midi_scanner.utils.gui_utils import cv2_to_tkinter_image\n",
    "top = tk.Tk()\n",
    "\n",
    "\n",
    "img_tk = cv2_to_tkinter_image(image_base_roi)\n",
    "print(img_tk)\n",
    "# img_label = tk.Label(top, image= img_tk)\n",
    "# img_label.image = img_tk\n",
    "# img_label.pack()\n",
    "\n",
    "canvas = tk.Canvas(top, width=img_tk.width(), height=img_tk.height())\n",
    "canvas.pack()\n",
    "\n",
    "# Add the image to the canvas\n",
    "canvas.create_image(0, 0, anchor=tk.NW, image=img_tk)\n",
    "\n",
    "def move_line(event):\n",
    "    canvas.moveto(line_id, 0, event.y)\n",
    "\n",
    "\n",
    "# Draw the initial horizontal line\n",
    "line_id = canvas.create_line(0, img_tk.height() // 2, img_tk.width(), img_tk.height() // 2, fill=\"red\", width=2)\n",
    "canvas.tag_bind(line_id, \"<Button-1>\", lambda event: canvas.bind(\"<B1-Motion>\", move_line))\n",
    "canvas.tag_bind(line_id, \"<ButtonRelease-1>\", lambda event: canvas.unbind(\"<B1-Motion>\"))\n",
    "# C = Canvas(top, bg=\"blue\", height=250, width=300)\n",
    "# coord = 10, 50, 240, 210\n",
    "# photo = ImageTk.PhotoImage()\n",
    "# img = C.create_image(0,0, image= photo), \n",
    "# arc = C.create_arc(coord, start=0, extent=150, fill=\"red\")\n",
    "# line = C.create_line(10,10,200,200,fill='white')\n",
    "# C.pack()\n",
    "top.mainloop()"
   ]
  },
  {
   "cell_type": "code",
   "execution_count": 6,
   "metadata": {},
   "outputs": [],
   "source": []
  },
  {
   "cell_type": "code",
   "execution_count": 5,
   "metadata": {},
   "outputs": [],
   "source": []
  }
 ],
 "metadata": {
  "kernelspec": {
   "display_name": ".venv",
   "language": "python",
   "name": "python3"
  },
  "language_info": {
   "codemirror_mode": {
    "name": "ipython",
    "version": 3
   },
   "file_extension": ".py",
   "mimetype": "text/x-python",
   "name": "python",
   "nbconvert_exporter": "python",
   "pygments_lexer": "ipython3",
   "version": "3.8.8"
  }
 },
 "nbformat": 4,
 "nbformat_minor": 2
}

{
 "cells": [
  {
   "cell_type": "code",
   "execution_count": 2,
   "metadata": {},
   "outputs": [],
   "source": [
    "from music21 import stream, note, meter, key"
   ]
  },
  {
   "cell_type": "code",
   "execution_count": 8,
   "metadata": {},
   "outputs": [],
   "source": [
    "# Define a time signature and key signature\n",
    "time_signature = meter.TimeSignature('4/4')\n",
    "key_signature = key.KeySignature(0)  # C major/A minor (no sharps or flats)\n",
    "score = stream.Score()\n",
    "# Add the time signature and key signature to the score\n",
    "score.append(time_signature)\n",
    "score.append(key_signature)"
   ]
  },
  {
   "cell_type": "code",
   "execution_count": 9,
   "metadata": {},
   "outputs": [
    {
     "name": "stdout",
     "output_type": "stream",
     "text": [
      "Score exported to simple_melody.xml\n"
     ]
    }
   ],
   "source": [
    "melody = stream.Part()\n",
    "melody.append(note.Note('A3', quarterLength=1))  # G, quarter note\n",
    "melody.append(note.Note('B3', quarterLength=1))  # G, quarter note\n",
    "\n",
    "melody.append(note.Note('C3', quarterLength=1))  # C, quarter note\n",
    "melody.append(note.Note('D3', quarterLength=1))  # D, quarter note\n",
    "melody.append(note.Note('E3', quarterLength=1))  # E, quarter note\n",
    "melody.append(note.Rest(quarterLength=1))        # Rest, quarter note\n",
    "melody.append(note.Note('F3', quarterLength=1))  # F, quarter note\n",
    "melody.append(note.Note('G3', quarterLength=1))  # G, quarter note\n",
    "\n",
    "\n",
    "# Add the melody to the score\n",
    "score.append(melody)\n",
    "\n",
    "# Export the score to a MusicXML file for MuseScore\n",
    "output_file = 'simple_melody.xml'\n",
    "score.write('musicxml', fp=output_file)\n",
    "\n",
    "print(f\"Score exported to {output_file}\")"
   ]
  },
  {
   "cell_type": "code",
   "execution_count": null,
   "metadata": {},
   "outputs": [],
   "source": []
  }
 ],
 "metadata": {
  "kernelspec": {
   "display_name": ".venv",
   "language": "python",
   "name": "python3"
  },
  "language_info": {
   "codemirror_mode": {
    "name": "ipython",
    "version": 3
   },
   "file_extension": ".py",
   "mimetype": "text/x-python",
   "name": "python",
   "nbconvert_exporter": "python",
   "pygments_lexer": "ipython3",
   "version": "3.12.4"
  }
 },
 "nbformat": 4,
 "nbformat_minor": 2
}
